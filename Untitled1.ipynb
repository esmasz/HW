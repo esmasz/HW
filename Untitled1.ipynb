{
  "nbformat": 4,
  "nbformat_minor": 0,
  "metadata": {
    "colab": {
      "name": "Untitled1.ipynb",
      "version": "0.3.2",
      "provenance": [],
      "include_colab_link": true
    },
    "kernelspec": {
      "name": "python3",
      "display_name": "Python 3"
    }
  },
  "cells": [
    {
      "cell_type": "markdown",
      "metadata": {
        "id": "view-in-github",
        "colab_type": "text"
      },
      "source": [
        "<a href=\"https://colab.research.google.com/github/esmasz/HW/blob/master/Untitled1.ipynb\" target=\"_parent\"><img src=\"https://colab.research.google.com/assets/colab-badge.svg\" alt=\"Open In Colab\"/></a>"
      ]
    },
    {
      "metadata": {
        "id": "ntwy4MMbQ3iU",
        "colab_type": "code",
        "colab": {}
      },
      "cell_type": "code",
      "source": [
        "#permutasyon\n",
        "\n",
        "def f(sayi):\n",
        "    if sayi==0:\n",
        "        return 1\n",
        "\n",
        "    sayi=sayi*f(sayi-1)\n",
        "    return sayi\n",
        "\n",
        "liste=[0,1,1,0,0]\n",
        "a=0 \n",
        "b=0\n",
        "\n",
        "for i in range(0,5):\n",
        "    if liste[i]==1:\n",
        "        a=a+1\n",
        "    if liste[i]==0:\n",
        "        b=b+1\n",
        "\n",
        "sonuc=f(a+b)/(f(a)*f(b))\n",
        "print (sonuc)\n",
        "\n",
        "    "
      ],
      "execution_count": 0,
      "outputs": []
    },
    {
      "metadata": {
        "id": "vL0jlNr9Refh",
        "colab_type": "text"
      },
      "cell_type": "markdown",
      "source": [
        "İlgili permutasyon kodu, verilen liste icerisindeki bit dizini kapsamında kac farkli 5 bitlik dizi olusturulabilecegini  hesaplamaktadir. \n",
        "\n",
        "       def f(sayi):  # faktoriyel hesabinin yapildigi fonksiyon\n",
        "        if sayi==0:\n",
        "           return 1\n",
        "\n",
        "                sayi=sayi*f(sayi-1)\n",
        "                   return sayi\n",
        "\n",
        "           liste=[0,1,1,0,0]\n",
        "            a=0  # 1 lerin sayisini tutan degisken\n",
        "           b=0 #0 larin sayisini tutan degisken\n",
        "\n",
        "         for i in range(0,5):  #ilgili listede bulunan 1 ve 0 larin hesaplanmasi\n",
        "           if liste[i]==1:\n",
        "                  a=a+1\n",
        "             if liste[i]==0:\n",
        "                  b=b+1\n",
        "\n",
        "       sonuc=f(a+b)/(f(a)*f(b))  #tekrarli permutasyon kuralina göre sonucun hesaplanmasi\n",
        "             print (sonuc)\n",
        "\n"
      ]
    }
  ]
}