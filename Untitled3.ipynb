{
  "nbformat": 4,
  "nbformat_minor": 0,
  "metadata": {
    "colab": {
      "name": "Untitled3.ipynb",
      "version": "0.3.2",
      "provenance": [],
      "include_colab_link": true
    },
    "kernelspec": {
      "name": "python3",
      "display_name": "Python 3"
    }
  },
  "cells": [
    {
      "cell_type": "markdown",
      "metadata": {
        "id": "view-in-github",
        "colab_type": "text"
      },
      "source": [
        "<a href=\"https://colab.research.google.com/github/esmasz/HW/blob/master/Untitled3.ipynb\" target=\"_parent\"><img src=\"https://colab.research.google.com/assets/colab-badge.svg\" alt=\"Open In Colab\"/></a>"
      ]
    },
    {
      "metadata": {
        "id": "YuaKfZSzOxHC",
        "colab_type": "code",
        "outputId": "f205b95c-5c7c-4a6c-9e23-a9ac850ae862",
        "colab": {
          "base_uri": "https://localhost:8080/",
          "height": 85
        }
      },
      "cell_type": "code",
      "source": [
        "#kosullu olasilik-bayes teoremi E-posta ornegi\n",
        "\n",
        "\n",
        "\n",
        "total=100 \n",
        "\n",
        "spam=int(input(\"spam mail:\"))\n",
        "spam=spam/total \n",
        "mail=1-spam\n",
        "\n",
        "nspam=int(input(\"spam sahte ust bilgi:\"))\n",
        "nmail=int(input(\"mail sahte ust bilgi:\"))\n",
        "\n",
        "nspam=nspam/total\n",
        "nmail=nmail/total\n",
        "\n",
        "result=(spam*nspam)/(spam*nspam + mail*nmail)\n",
        "print(result)\n",
        "\n",
        "\n"
      ],
      "execution_count": 3,
      "outputs": [
        {
          "output_type": "stream",
          "text": [
            "spam mail:60\n",
            "spam sahte ust bilgi:90\n",
            "mail sahte ust bilgi:20\n",
            "0.8709677419354838\n"
          ],
          "name": "stdout"
        }
      ]
    },
    {
      "metadata": {
        "id": "r-u-DaTvr93R",
        "colab_type": "text"
      },
      "cell_type": "markdown",
      "source": [
        "İlgili kod asagıda bahsedilen ornek kapsamini barindirmaktadir. \n",
        "\n",
        "Kod satirlarinin acıklamalari yaninda verilmektedir.\n",
        "Tüm e-postaların %60’ı spam, tüm spamların %90’ı sahte üst bilgiye sahiptir.\n",
        "Spam olmayanların %20’si sahte üst bilgiye sahiptir.\n",
        "Bir e-postanın sahte üst bilgiye sahip olup, spam olma olasılıgı nedir?\n",
        "                                      \n",
        "           total=100 \n",
        "\n",
        "         spam=int(input(\"spam mail:\"))#(spam mail yüzdesi alinir(60))\n",
        "          \n",
        "          spam=spam/total \n",
        "          \n",
        "         mail=1-spam #spam olmayan mail olasiligi\n",
        "\n",
        "    nspam=int(input(\"spam sahte ust bilgi:\")) #(spamlarin sahte ust                                                          bilgi yuzdesi(90))\n",
        "    \n",
        "    nmail=int(input(\"mail sahte ust bilgi:\")) #(spam olmayan sahte ust bilgi yuzdesi(20))\n",
        "\n",
        "    nspam=nspam/total \n",
        "    nmail=nmail/total\n",
        "\n",
        "     result=(spam*nspam)/(spam*nspam + mail*nmail) #spam/toplam-sahte ust bilgi\n",
        "      print(result)\n",
        "      \n",
        "\n",
        "\n"
      ]
    }
  ]
}