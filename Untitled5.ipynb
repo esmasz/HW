{
  "nbformat": 4,
  "nbformat_minor": 0,
  "metadata": {
    "colab": {
      "name": "Untitled5.ipynb",
      "version": "0.3.2",
      "provenance": [],
      "include_colab_link": true
    },
    "kernelspec": {
      "name": "python3",
      "display_name": "Python 3"
    }
  },
  "cells": [
    {
      "cell_type": "markdown",
      "metadata": {
        "id": "view-in-github",
        "colab_type": "text"
      },
      "source": [
        "<a href=\"https://colab.research.google.com/github/esmasz/HW/blob/master/Untitled5.ipynb\" target=\"_parent\"><img src=\"https://colab.research.google.com/assets/colab-badge.svg\" alt=\"Open In Colab\"/></a>"
      ]
    },
    {
      "cell_type": "markdown",
      "metadata": {
        "id": "Vk7G78VcfpkO",
        "colab_type": "text"
      },
      "source": [
        "***BERNOULLİ DAĞILIMI***\n",
        "\n",
        "Aynı koşullar altında kesikli bir rassal denemenin sonuçları olumlu-olumsuz, başarılı-başarısız, geçti-kaldı şeklinde birbiriyle bağdaşmayan ve bütünün kapsayan iki sonuçlu\n",
        "olaylarda, gözlemlerde ya da deneylerde “**BERNOULLİ DAĞILIMI”** kullanılır. \n",
        "\n",
        "Bir bilgi yarısmasinda ilgili bir grubun yarışmayı kazanma şansı   p  ise,  yarışı kaybetme olasılığı\n",
        "(1-p)  olacaktır. \n",
        "X rassal değişkeninde grup yarışmada başarılı olursa  x = 1 ve başarısız olursa x = 0 olarak\n",
        "tanımlansın. \n",
        " Bu durumda X rassal değişkeninin olasılık fonksiyonu şöyledir:\n",
        "**P ( X = x ) = px(1 – p)^1-x    ,           x=0,1  ** şeklinde gösterilir ve Bernoulli olasılık dağılımı denir.\n"
      ]
    },
    {
      "cell_type": "markdown",
      "metadata": {
        "id": "s8jKI0VFgzHe",
        "colab_type": "text"
      },
      "source": [
        "ÖRNEK:  Bir bilgi yarismasinda finale kalan A ve B gruplarindan A grubunun yarisi kazanma olasiliginin **0.6** olduguna inanilmaktadir.   Olasilik dagiliminin fonksiyonunu bulunuz.\n",
        " A grubu yarışmayı kazanırsa  X rassal değişkeni x = 1 ve kaybettiği durumda                                     x = 0 değerini alırsa, X\n",
        "rassal değişkeninin olasılık dağılımı şöyle yazılabilir:\n",
        "\n",
        "    P (x=1) = 0.6 ve P (x=0) = 0.4\n",
        "\n",
        "Olasılık dağılım fonksiyonu ise;\n",
        "\n",
        "    P ( X = x ) = px(1 – p)^1-x= 0.6^x(1 – 0.6)^1-x=( 0.6)^x*(0.4)^1-x  \n",
        "    \n",
        "  şeklinde bulunur."
      ]
    },
    {
      "cell_type": "code",
      "metadata": {
        "id": "B-CzwXLbjLx5",
        "colab_type": "code",
        "colab": {}
      },
      "source": [
        "p=0.6"
      ],
      "execution_count": 0,
      "outputs": []
    },
    {
      "cell_type": "markdown",
      "metadata": {
        "id": "IyBIPJ6sjSPq",
        "colab_type": "text"
      },
      "source": [
        " x’in alacağı 1 ve 0 değerlerine göre olasılık dağılımı aşağıdaki gibidir;"
      ]
    },
    {
      "cell_type": "code",
      "metadata": {
        "id": "4yg1jiYKjYAm",
        "colab_type": "code",
        "colab": {}
      },
      "source": [
        "p1=p**1 * (1-p)**0\n",
        "p0=p**0 * (1-p)**1"
      ],
      "execution_count": 0,
      "outputs": []
    },
    {
      "cell_type": "markdown",
      "metadata": {
        "id": "-DEyldmxjcfC",
        "colab_type": "text"
      },
      "source": [
        "  Yukarıda verilen kod kapsamı;\n",
        "  \n",
        "  P ( x = 1 ) = p^1 (1 – p)^1-1 = 0.6^1 * 0.4^0= 0.6                                                                                                \n",
        "P ( x = 0 ) = p^0 (1 – p)^1-0 = 0.6^0 (1 – 0.6)^1= 0.6^0 *0.4^1= 0.4"
      ]
    },
    {
      "cell_type": "code",
      "metadata": {
        "id": "VgzbsGOmjnWP",
        "colab_type": "code",
        "colab": {
          "base_uri": "https://localhost:8080/",
          "height": 51
        },
        "outputId": "cadf2e5e-e514-45f1-9311-5d68531e85fe"
      },
      "source": [
        "print(\"P1= %s\" %(p1))\n",
        "print(\"P0= %s\" %(p0))"
      ],
      "execution_count": 4,
      "outputs": [
        {
          "output_type": "stream",
          "text": [
            "P1= 0.6\n",
            "P0= 0.4\n"
          ],
          "name": "stdout"
        }
      ]
    },
    {
      "cell_type": "markdown",
      "metadata": {
        "id": "uP9_QmkCkFLq",
        "colab_type": "text"
      },
      "source": [
        "***BİNOM DAĞILIMI***\n",
        "\n",
        "İki sonuçlu rassal deneme aynı koşullar altında n kere tekrarlanırsa\n",
        "“**BİNOM DAĞILIMI**” adı verilen dağılım elde edilir. Bernoulli dağılımının özel bir şeklidir. \n",
        "\n",
        "Öncelikle, n tane deneme olduğu için n tane iki olasılıklı sonuç olacaktır. İncelenen olay\n",
        "başarı ya da başarısızlık ise n tane denemede x tane başarılı ve (n-x) tane başarısız\n",
        "sonuç olacaktır ve denemeler birbirinden bağımsız olduklarından sonuçların herhangi\n",
        "bir dizilimin olasılığı, tekil sonuçların olasılıklarının çarpımına eşittir ve aşağıdaki\n",
        "gibidir;\n",
        "\n",
        "    P (x, n-x) = p.p.p………p.(1-p).(1-p)…….(1-p) = p^x*(1-p)^n-x\n",
        "\n",
        "Her bir denemenin başarılı olma olasılığı p ve başarısız olma olasılığı (1-p) dir.\n"
      ]
    },
    {
      "cell_type": "markdown",
      "metadata": {
        "id": "i-4BAAfZk0GE",
        "colab_type": "text"
      },
      "source": [
        "n tane rassal denemede x tane başarının (n-x) tane başarısızlıkla birlikte çok farklı\n",
        "dizilişlerde gerçekleşebilir yukarıda sadece bir tanesi dikkate alındı. Diziliş sırası\n",
        "önemli değilse n rassal denemede x tane başarı içeren dizilişlerin sayısı:\n",
        "\n",
        "          C(X=n)=n!/(n-k)! k!       \n",
        "(n rassal denemenin x taneli kombinasyonu  olarak bulunur)\n",
        "\n",
        "n tane rassal denemenin x tanesinin başarılı olma olasılık fonksiyonu:\n",
        "\n",
        "    P(x;n,p) = C(x,n) p^x (1-p)^n-x şeklinde verilir ve hesaplanır.\n"
      ]
    },
    {
      "cell_type": "markdown",
      "metadata": {
        "id": "LbQoIcvEmxF7",
        "colab_type": "text"
      },
      "source": [
        "ÖRNEK: Bir hastanede amelyat edilen 10 hastadan en az 9 hastanın iyilesme olasiligini hesaplayınız."
      ]
    },
    {
      "cell_type": "code",
      "metadata": {
        "id": "teK-gQK1oPXs",
        "colab_type": "code",
        "colab": {}
      },
      "source": [
        "p=0.8 #basari olasiligi\n",
        "k=1-p #basarisizlik olasiligi \n",
        "n=10  #toplam hasta sayisi\n",
        "m=9   #en az 9 hastanin iyilesme olasiligi \n",
        "total=0.0"
      ],
      "execution_count": 0,
      "outputs": []
    },
    {
      "cell_type": "markdown",
      "metadata": {
        "id": "Leza2ZyGoohe",
        "colab_type": "text"
      },
      "source": [
        "Asagıda verilen kod blogunda kombinasyon fonksiyonunun hesaplanmasi gerceklestirilmektedir."
      ]
    },
    {
      "cell_type": "code",
      "metadata": {
        "id": "DKEiUrLDohue",
        "colab_type": "code",
        "colab": {}
      },
      "source": [
        "def C(a, b):   \n",
        "    if (a==b):\n",
        "        \n",
        "        return 1\n",
        "    else:\n",
        "        s=1\n",
        "        for i in range (1, a+1):  # (a!) hesaplanmasi\n",
        "            s=s*i\n",
        "\n",
        "        l=1\n",
        "        for c in range (1, b+1):  # (b!) hesaplanmasi\n",
        "            l=l*c\n",
        "\n",
        "        f=1\n",
        "        for h in range (1, a-b+1):  #(a-b)! hesaplanmasi\n",
        "            f=f*h\n",
        "\n",
        "        result=s/(l*f)\n",
        "     \n",
        "        return result"
      ],
      "execution_count": 0,
      "outputs": []
    },
    {
      "cell_type": "markdown",
      "metadata": {
        "id": "zwrbSqtSpAwz",
        "colab_type": "text"
      },
      "source": [
        "Son olarak ise binominal dagilim kapsamında en az 9 hastanin iyilesme olasiligi asagidaki gibi  bulunmaktadir."
      ]
    },
    {
      "cell_type": "code",
      "metadata": {
        "id": "jipOdUkKpOOr",
        "colab_type": "code",
        "colab": {
          "base_uri": "https://localhost:8080/",
          "height": 34
        },
        "outputId": "fec9a006-f18e-4422-b6b1-c7ec3f3d3e2e"
      },
      "source": [
        "for m in range (m,n+1): \n",
        "\n",
        "    total=total+ (C(n,m)*(p**m)*(k**(n-m)))  \n",
        "    \n",
        "print(total)\n"
      ],
      "execution_count": 7,
      "outputs": [
        {
          "output_type": "stream",
          "text": [
            "0.37580963840000015\n"
          ],
          "name": "stdout"
        }
      ]
    }
  ]
}