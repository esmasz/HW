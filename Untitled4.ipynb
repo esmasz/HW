{
  "nbformat": 4,
  "nbformat_minor": 0,
  "metadata": {
    "colab": {
      "name": "Untitled4.ipynb",
      "version": "0.3.2",
      "provenance": [],
      "include_colab_link": true
    },
    "kernelspec": {
      "name": "python3",
      "display_name": "Python 3"
    }
  },
  "cells": [
    {
      "cell_type": "markdown",
      "metadata": {
        "id": "view-in-github",
        "colab_type": "text"
      },
      "source": [
        "<a href=\"https://colab.research.google.com/github/esmasz/HW/blob/master/Untitled4.ipynb\" target=\"_parent\"><img src=\"https://colab.research.google.com/assets/colab-badge.svg\" alt=\"Open In Colab\"/></a>"
      ]
    },
    {
      "cell_type": "markdown",
      "metadata": {
        "id": "xo4sOxzcmbWS",
        "colab_type": "text"
      },
      "source": [
        "Ayrik (Kesikli) Olasilik Dagilimi=Olasilik Kutle Fonksiyonu Ornegi\n",
        "\n",
        "soru: Bir torbadan 2 top cekiliyor. Mavi top gelme sayisina ait kesikli olasilik dagilimini bulunuz.\n",
        "\n",
        "\n"
      ]
    },
    {
      "cell_type": "code",
      "metadata": {
        "id": "LogdTDHXmkzE",
        "colab_type": "code",
        "colab": {}
      },
      "source": [
        "pYesil=4\n",
        "pMavi=3\n",
        "pToplam=pMavi+pYesil"
      ],
      "execution_count": 0,
      "outputs": []
    },
    {
      "cell_type": "markdown",
      "metadata": {
        "id": "qWfvVcQQoivn",
        "colab_type": "text"
      },
      "source": [
        "Torbada 4 adet yesil ve 3 adet mavi olmak uzere toplam 7 adet topbulunmaktadir."
      ]
    },
    {
      "cell_type": "code",
      "metadata": {
        "id": "4iWX5w3tmlJY",
        "colab_type": "code",
        "colab": {}
      },
      "source": [
        "X=[0,1,2]"
      ],
      "execution_count": 0,
      "outputs": []
    },
    {
      "cell_type": "markdown",
      "metadata": {
        "id": "yHRFIPZAowRL",
        "colab_type": "text"
      },
      "source": [
        "ilgili liste mavi topun gelebilme olasiliklarini tutmaktadir.Ornegin; X[0]= (pYY) hic mavi top gelmemesi durumunu, X[1] =(pYM+ pMY) bir adet mavi top gelme ihtimalini , son olarak    X[2]=(pMM) ikisininde mavi gelme olasiligina karsilik gelir.\n",
        "\n",
        "\n"
      ]
    },
    {
      "cell_type": "code",
      "metadata": {
        "id": "vPYGMYu1mefO",
        "colab_type": "code",
        "colab": {}
      },
      "source": [
        "for i in range(0,3):\n",
        "    if X[i]==0:\n",
        "        pYY=(pYesil/pToplam)*((pYesil-1)/(pToplam-1))\n",
        "        X[0]=pYY\n",
        "       \n",
        "    if X[i] ==1:\n",
        "        pYM=(pYesil/pToplam)*(pMavi/(pToplam-1))\n",
        "        pMY=(pMavi/pToplam)*(pYesil/(pToplam-1))\n",
        "        p1=pYM+pMY\n",
        "        X[1]=p1\n",
        "     \n",
        "    if X[i]==2:\n",
        "        pMM=(pMavi/pToplam)*((pMavi-1)/(pToplam-1))\n",
        "        \n",
        "        X[2]=pMM\n",
        "            "
      ],
      "execution_count": 0,
      "outputs": []
    },
    {
      "cell_type": "markdown",
      "metadata": {
        "id": "FMaLG0dxpDup",
        "colab_type": "text"
      },
      "source": [
        "Yukarıda bulunan for dongusu daha once bahsedilen pYY,pMY,pYM,pMM durumlarinin olasilik degelerinin hesaplanmasini anlatmaktadir. İlgili olasilik degerleri hesaplanarak X[] listesinin temsil ettigi elemanlara ilgili degerler atanır. ornegin ;  X[0]=pYY \n",
        "\n"
      ]
    },
    {
      "cell_type": "code",
      "metadata": {
        "id": "dKlS7Ug3muSM",
        "colab_type": "code",
        "colab": {
          "base_uri": "https://localhost:8080/",
          "height": 68
        },
        "outputId": "2f22db4a-d943-487a-ab90-bbf296e12847"
      },
      "source": [
        "for j in range (0,3):\n",
        "    print ('X[',j,']=',X[j])\n",
        "        "
      ],
      "execution_count": 14,
      "outputs": [
        {
          "output_type": "stream",
          "text": [
            "X[ 0 ]= 0.2857142857142857\n",
            "X[ 1 ]= 0.5714285714285714\n",
            "X[ 2 ]= 0.14285714285714285\n"
          ],
          "name": "stdout"
        }
      ]
    },
    {
      "cell_type": "markdown",
      "metadata": {
        "id": "s4g14NOtrAww",
        "colab_type": "text"
      },
      "source": [
        "Bulunan ve aktarilan olasilik degerleri ekranda listelenir."
      ]
    }
  ]
}