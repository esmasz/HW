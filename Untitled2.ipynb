{
  "nbformat": 4,
  "nbformat_minor": 0,
  "metadata": {
    "colab": {
      "name": "Untitled2.ipynb",
      "version": "0.3.2",
      "provenance": [],
      "include_colab_link": true
    },
    "kernelspec": {
      "name": "python3",
      "display_name": "Python 3"
    }
  },
  "cells": [
    {
      "cell_type": "markdown",
      "metadata": {
        "id": "view-in-github",
        "colab_type": "text"
      },
      "source": [
        "<a href=\"https://colab.research.google.com/github/esmasz/HW/blob/master/Untitled2.ipynb\" target=\"_parent\"><img src=\"https://colab.research.google.com/assets/colab-badge.svg\" alt=\"Open In Colab\"/></a>"
      ]
    },
    {
      "metadata": {
        "id": "QFyeWhUeU_Fn",
        "colab_type": "code",
        "colab": {}
      },
      "cell_type": "code",
      "source": [
        "\n",
        "#kombinasyon\n",
        "\n",
        "def factorial(i):\n",
        "    \n",
        "    if i==1:       \n",
        "        return 1\n",
        "    \n",
        "    else: \n",
        "        return i * factorial(i-1)\n",
        "    \n",
        "def C(a, b):   \n",
        "    if (a==b):\n",
        "        \n",
        "        return 1\n",
        "    else:\n",
        "        s=1\n",
        "        for i in range (1, a+1):  # (a!)\n",
        "            s=s*i\n",
        "\n",
        "        l=1\n",
        "        for c in range (1, b+1):  # (b!)\n",
        "            l=l*c\n",
        "\n",
        "        f=1\n",
        "        for h in range (1, a-b+1):  #(a-b)!\n",
        "            f=f*h\n",
        "\n",
        "        result=s/(l*f)\n",
        "     \n",
        "        return result\n",
        "    \n",
        "    \n",
        "print(\"A kentine gidecek grup icin secim degeri : \" , \"C(12,8)=\", C(12,8))\n",
        "print(\"B kentine gidecek grup icin secim degeri: \" , \"C(12-8,4)=\", C(4,4))\n",
        "\n",
        "\n",
        "print(\"Sonuc:\",\"C(12,8)*C(4,4)=\",C(12,8)*C(4,4) )\n"
      ],
      "execution_count": 0,
      "outputs": []
    },
    {
      "metadata": {
        "id": "RPG3eW1yVYJf",
        "colab_type": "text"
      },
      "cell_type": "markdown",
      "source": [
        " İlgili kombinasyon kodunda 12 kisilik bir kafilede A ve B kentlerine sirasiyla 8 ve 4 kisi gönderilecektir. Gönderilecek olan bu grupların kac farklı sekilde olusturulabileceginin hesaplanmasi yer almaktadir.\n",
        "\n",
        "\n",
        "          def factorial(i): #faktoriyel fonksiyonunun hesaplanmasi\n",
        "    \n",
        "               if i==1:       \n",
        "                 return 1\n",
        "   \n",
        "               else: \n",
        "                 return i * factorial(i-1)\n",
        "    \n",
        "            def C(a, b): #kombinasyon fonksiyonunun hesaplanmasi\n",
        "            if (a==b):\n",
        "               return 1\n",
        "               \n",
        "               else:\n",
        "                s=1\n",
        "             for i in range (1, a+1):  # (a!) hesaplanmasi\n",
        "               s=s*i\n",
        "                l=1\n",
        "             for c in range (1, b+1):  # (b!) hesaplanmasi\n",
        "               l=l*c\n",
        "               f=1\n",
        "            for h in range (1, a-b+1):  #(a-b)! hesaplanmasi\n",
        "               f=f*h\n",
        "\n",
        "               result=s/(l*f)\n",
        "     \n",
        "            return result\n",
        "    \n",
        "    \n",
        "      print(\"A kentine gidecek grup icin secim degeri : \" , \"C(12,8)=\", C(12,8))\n",
        "     print(\"B kentine gidecek grup icin secim degeri: \" , \"C(12-8,4)=\", C(4,4))\n",
        "\n",
        "\n",
        "     print(\"Sonuc:\",\"C(12,8)*C(4,4)=\",C(12,8)*C(4,4) )\n",
        "     \n",
        "     \n"
      ]
    }
  ]
}