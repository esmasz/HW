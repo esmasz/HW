{
  "nbformat": 4,
  "nbformat_minor": 0,
  "metadata": {
    "colab": {
      "name": "Untitled6.ipynb",
      "version": "0.3.2",
      "provenance": [],
      "include_colab_link": true
    },
    "kernelspec": {
      "name": "python3",
      "display_name": "Python 3"
    }
  },
  "cells": [
    {
      "cell_type": "markdown",
      "metadata": {
        "id": "view-in-github",
        "colab_type": "text"
      },
      "source": [
        "<a href=\"https://colab.research.google.com/github/esmasz/HW/blob/master/Untitled6.ipynb\" target=\"_parent\"><img src=\"https://colab.research.google.com/assets/colab-badge.svg\" alt=\"Open In Colab\"/></a>"
      ]
    },
    {
      "cell_type": "code",
      "metadata": {
        "id": "YYKpwJjBqXCs",
        "colab_type": "code",
        "colab": {}
      },
      "source": [
        ""
      ],
      "execution_count": 0,
      "outputs": []
    },
    {
      "cell_type": "markdown",
      "metadata": {
        "id": "04ALV7WZqmet",
        "colab_type": "text"
      },
      "source": [
        "***VARYANS***\n",
        "\n",
        "Olasılık kuramı ve istatistik bilim dallarında **varyans** bir rassal değişken,\n",
        "bir olasılık dağılımı veya örneklem için istatistiksel yayılımın, mümkün bütün değerlerin\n",
        "beklenen değer veya ortalamadan uzaklıklarının karelerinin ortalaması\n",
        "şeklinde bulunan bir ölçüdür.\n",
        "\n",
        "Ortalama bir dağılımın merkezsel konum noktasını bulmaya çalışırken\n",
        "varyans değerlerin ne ölçekte veya ne derecede yaygın olduklarını tanımlamayı hedef alır.\n",
        "\n",
        "Varyans için ölçülme birimi orijinal değişkenin biriminin karesidir.\n",
        "\n",
        "Varyansın kare kökü standart sapma olarak adlandırılır; bunun ölçme birimi orijinal değişkenle aynı birimde olur ve bu nedenle daha kolayca yorumlanabilir."
      ]
    },
    {
      "cell_type": "code",
      "metadata": {
        "id": "n5yaYLK3rDaI",
        "colab_type": "code",
        "colab": {}
      },
      "source": [
        "X=[1,2,3]\n",
        "PX=[3/7, 2/7,2/7]"
      ],
      "execution_count": 0,
      "outputs": []
    },
    {
      "cell_type": "markdown",
      "metadata": {
        "id": "DKgGA_4OrGJD",
        "colab_type": "text"
      },
      "source": [
        "Varyans hesaplanirken ilk olarak orneklem veri seti yazilir.\n",
        "\n",
        "\n",
        "\n"
      ]
    },
    {
      "cell_type": "code",
      "metadata": {
        "id": "qt-Gvw4Or6Z0",
        "colab_type": "code",
        "colab": {}
      },
      "source": [
        "varyans=0.0             # var[x]\n",
        "E1=0.0                  # E[x]^2\n",
        "E2=0.0                  # E[x^2]"
      ],
      "execution_count": 0,
      "outputs": []
    },
    {
      "cell_type": "markdown",
      "metadata": {
        "id": "9hMv5LzJsK_o",
        "colab_type": "text"
      },
      "source": [
        "X değişkeninin beklenen değeri μ = E(X) olmak üzere,\n",
        "\n",
        "Matematik notasyon kullanılarak bir rassal değişken X için varyans ya Var(X)\n",
        "\n",
        "      var(X) = E(X^2-2 X E(X) + (E(X))^2),\n",
        "                      =E(X^2)-2(E(X))*2 + (E(X))^2,\n",
        "                =E(X^2) - (E(X))^2\n",
        "Bu formule gore varyans, karelerin ortalamasi - ortalamanin karesine esittir."
      ]
    },
    {
      "cell_type": "code",
      "metadata": {
        "id": "BrrxYqiIsAkS",
        "colab_type": "code",
        "colab": {
          "base_uri": "https://localhost:8080/",
          "height": 34
        },
        "outputId": "1cbf3961-785c-4d67-9f2b-1f8ec98caff3"
      },
      "source": [
        "for i in range(0,3):\n",
        "    \n",
        "        \n",
        "    E1= E1+(X[i]*PX[i])\n",
        "        \n",
        "    E2=E2 + ((X[i]**2)* PX[i])\n",
        "\n",
        "\n",
        "E1=E1**2\n",
        "varyans= E2-E1\n",
        "print(varyans)"
      ],
      "execution_count": 3,
      "outputs": [
        {
          "output_type": "stream",
          "text": [
            "0.6938775510204076\n"
          ],
          "name": "stdout"
        }
      ]
    },
    {
      "cell_type": "markdown",
      "metadata": {
        "id": "7b2QdaxTtC7t",
        "colab_type": "text"
      },
      "source": [
        "Verilen bilgiler dogrultusunda varyans hesabi yukaridaki sekilde hesaplanir."
      ]
    }
  ]
}